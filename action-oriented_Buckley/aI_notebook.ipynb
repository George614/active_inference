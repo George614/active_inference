{
 "metadata": {
  "language_info": {
   "codemirror_mode": {
    "name": "ipython",
    "version": 3
   },
   "file_extension": ".py",
   "mimetype": "text/x-python",
   "name": "python",
   "nbconvert_exporter": "python",
   "pygments_lexer": "ipython3",
   "version": "3.7.7-final"
  },
  "orig_nbformat": 2,
  "kernelspec": {
   "name": "Python 3.7.7 64-bit ('DLC_1': conda)",
   "display_name": "Python 3.7.7 64-bit ('DLC_1': conda)",
   "metadata": {
    "interpreter": {
     "hash": "3a96e68ba07b081b4c32c723ec3575cf68830c819a50faa680d6d5b9099d1b56"
    }
   }
  }
 },
 "nbformat": 4,
 "nbformat_minor": 2,
 "cells": [
  {
   "cell_type": "code",
   "execution_count": 1,
   "metadata": {},
   "outputs": [
    {
     "output_type": "execute_result",
     "data": {
      "text/plain": [
       "'/Volumes/GoogleDrive/My Drive/Code/Active Inference/active_inference/action-oriented_Buckley'"
      ]
     },
     "metadata": {},
     "execution_count": 1
    }
   ],
   "source": [
    "import os\n",
    "os.getcwd()"
   ]
  },
  {
   "source": [
    "from sys import path\n",
    "sys.path.append(os.getcwd() + '/src')\n",
    "\n",
    "import numpy as np\n",
    "import src.core as core\n",
    "from core.config import *\n",
    "from core.env import Environment"
   ],
   "cell_type": "code",
   "metadata": {},
   "execution_count": 2,
   "outputs": []
  },
  {
   "cell_type": "code",
   "execution_count": 3,
   "metadata": {},
   "outputs": [],
   "source": [
    "def scriptedStep(mdp,obv):\n",
    "    \n",
    "    mdp.obv = obv\n",
    "    \n",
    "    ##################################################################\n",
    "    #### mdp.infer_sQ(obv)\n",
    "    likelihood = mdp.lnA[obv, :]  # lnP(o_t|s_t, lambda)\n",
    "    likelihood = likelihood[:, np.newaxis]\n",
    "    prior = np.dot(mdp.B[mdp.action], mdp.sQ) # lnP(s_t|s_t-1, u_t-1) in equation 11\n",
    "    prior = np.log(prior)\n",
    "    mdp.sQ = mdp.softmax(likelihood + prior)\n",
    "\n",
    "    ##################################################################\n",
    "    #### mdp.evaluate_efe()\n",
    "    mdp.EFE = np.zeros([mdp.Nu, 1])\n",
    "\n",
    "    for u in range(mdp.Nu):\n",
    "        fs = np.dot(mdp.B[u], mdp.sQ)  # phy_s_tau in equation 18\n",
    "        fo = np.dot(mdp.A, fs)          # phi_o in equation 16\n",
    "        fo = mdp.normdist(fo + mdp.p0)\n",
    "\n",
    "        # instrumental value E_Q(o)[lnP(o)], equation 16?\n",
    "        utility = (np.sum(fo * np.log(fo / mdp.C), axis=0)) * mdp.alpha\n",
    "        utility = utility[0]\n",
    "        \n",
    "        ##################################################################\n",
    "        #### surprise = mdp.bayesian_surprise(u, fs) * mdp.betas\n",
    "        # parameter epistemic value, equation 15 and 18\n",
    "        surprise = 0\n",
    "        wb = mdp.wB[u, :, :]\n",
    "\n",
    "        for st in range(mdp.Ns):  # s_tau\n",
    "            for s in range(mdp.Ns):  # s_t\n",
    "                surprise += fs[st] * wb[st, s] * mdp.sQ[s]  # equation 18 first half\n",
    "            \n",
    "        surprise = -surprise * mdp.beta\n",
    "\n",
    "        # equation 15 and 18\n",
    "        mdp.EFE[u] -= utility\n",
    "        mdp.EFE[u] += surprise\n",
    "    \n",
    "\n",
    "    ##################################################################\n",
    "    ##### mdp.infer_uq()\n",
    "    mdp.uQ = mdp.softmax(mdp.EFE)\n",
    "\n",
    "    ##################################################################\n",
    "    #### mdp.act()\n",
    "    hu = max(mdp.uQ)\n",
    "    options = np.where(mdp.uQ == hu)[0]\n",
    "    mdp.action = int(np.random.choice(options))\n",
    "\n",
    "    return mdp\n"
   ]
  },
  {
   "cell_type": "code",
   "execution_count": 7,
   "metadata": {},
   "outputs": [],
   "source": [
    "def scriptedUpdate(mdp, new, previous):\n",
    "    \n",
    "    mdp.Ba[mdp.action, new, previous] += mdp.lr  # equation 13\n",
    "    b = np.copy(mdp.Ba[mdp.action])\n",
    "    mdp.B[mdp.action] = mdp.normdist(b)\n",
    "    \n",
    "\n",
    "    ############################\n",
    "    ### mdp.calc_wb()\n",
    "    wb_norm = np.copy(mdp.Ba)\n",
    "    wb_avg = np.copy(mdp.Ba)\n",
    "\n",
    "    for u in range(mdp.Nu):\n",
    "        for s in range(mdp.Ns):\n",
    "            wb_norm[u, :, s] = np.divide(1.0, np.sum(wb_norm[u, :, s]))\n",
    "            wb_avg[u, :, s] = np.divide(1.0, (wb_avg[u, :, s]))\n",
    "    \n",
    "    # self.wB is An array encoding uncertainty about the trainsition matrix\n",
    "    # for hidden states (based on paper and its reference)\n",
    "    mdp.wB = wb_norm - wb_avg\n",
    "    ############################\n",
    "    return mdp"
   ]
  },
  {
   "cell_type": "code",
   "execution_count": 8,
   "metadata": {},
   "outputs": [
    {
     "output_type": "error",
     "ename": "NameError",
     "evalue": "name 'mdp' is not defined",
     "traceback": [
      "\u001b[0;31m---------------------------------------------------------------------------\u001b[0m",
      "\u001b[0;31mNameError\u001b[0m                                 Traceback (most recent call last)",
      "\u001b[0;32m<ipython-input-8-b0d4d25f7f49>\u001b[0m in \u001b[0;36m<module>\u001b[0;34m\u001b[0m\n\u001b[1;32m      1\u001b[0m \u001b[0;31m############################\u001b[0m\u001b[0;34m\u001b[0m\u001b[0;34m\u001b[0m\u001b[0;34m\u001b[0m\u001b[0m\n\u001b[1;32m      2\u001b[0m \u001b[0;31m### mdp.calc_wb()\u001b[0m\u001b[0;34m\u001b[0m\u001b[0;34m\u001b[0m\u001b[0;34m\u001b[0m\u001b[0m\n\u001b[0;32m----> 3\u001b[0;31m \u001b[0mwb_norm\u001b[0m \u001b[0;34m=\u001b[0m \u001b[0mnp\u001b[0m\u001b[0;34m.\u001b[0m\u001b[0mcopy\u001b[0m\u001b[0;34m(\u001b[0m\u001b[0mmdp\u001b[0m\u001b[0;34m.\u001b[0m\u001b[0mBa\u001b[0m\u001b[0;34m)\u001b[0m\u001b[0;34m\u001b[0m\u001b[0;34m\u001b[0m\u001b[0m\n\u001b[0m\u001b[1;32m      4\u001b[0m \u001b[0mwb_avg\u001b[0m \u001b[0;34m=\u001b[0m \u001b[0mnp\u001b[0m\u001b[0;34m.\u001b[0m\u001b[0mcopy\u001b[0m\u001b[0;34m(\u001b[0m\u001b[0mmdp\u001b[0m\u001b[0;34m.\u001b[0m\u001b[0mBa\u001b[0m\u001b[0;34m)\u001b[0m\u001b[0;34m\u001b[0m\u001b[0;34m\u001b[0m\u001b[0m\n\u001b[1;32m      5\u001b[0m \u001b[0;34m\u001b[0m\u001b[0m\n",
      "\u001b[0;31mNameError\u001b[0m: name 'mdp' is not defined"
     ]
    }
   ],
   "source": [
    "   \n",
    "   "
   ]
  },
  {
   "cell_type": "code",
   "execution_count": 5,
   "metadata": {},
   "outputs": [],
   "source": [
    "def learn_trial(mdp, n_steps, record_states=False):\n",
    "\n",
    "    env = Environment()\n",
    "    obv = env.observe()\n",
    "    mdp.reset(obv)\n",
    "    states = np.zeros([N_CONTROL, N_STATES, N_STATES])\n",
    "\n",
    "    for step in range(n_steps):\n",
    "\n",
    "        if step % 10 == 0:\n",
    "            print(\"> Processing step {}\".format(step))\n",
    "\n",
    "        prev_obv = obv\n",
    "        mdp = scriptedStep(mdp,obv)\n",
    "        obv = env.act(mdp.action) # Run or tumble, and return an observation of 0 or 1\n",
    "\n",
    "        scriptedUpdate(mdp, obv, prev_obv)\n",
    "\n",
    "        if record_states:\n",
    "            states[mdp.action, obv, prev_obv] += 1 # count the numbers in transition matrix\n",
    "        \n",
    "    if record_states:\n",
    "        return mdp, states\n",
    "        \n",
    "    return mdp\n"
   ]
  },
  {
   "cell_type": "code",
   "execution_count": 6,
   "metadata": {},
   "outputs": [
    {
     "output_type": "stream",
     "name": "stdout",
     "text": [
      "> Processing step 0\n> Processing step 10\n> Processing step 20\n> Processing step 30\n> Processing step 40\n> Processing step 50\n> Processing step 60\n> Processing step 70\n> Processing step 80\n> Processing step 90\n> Processing step 100\n> Processing step 110\n> Processing step 120\n> Processing step 130\n> Processing step 140\n> Processing step 150\n> Processing step 160\n> Processing step 170\n> Processing step 180\n> Processing step 190\n> Processing step 200\n> Processing step 210\n> Processing step 220\n> Processing step 230\n> Processing step 240\n> Processing step 250\n> Processing step 260\n> Processing step 270\n> Processing step 280\n> Processing step 290\n"
     ]
    }
   ],
   "source": [
    "TRAIN_STEPS = 300\n",
    "TEST_STEPS = 100\n",
    "\n",
    "full = core.get_mdp(FULL_ID)\n",
    "full,states = learn_trial(full, TRAIN_STEPS,record_states=True)\n",
    "# full = learn_trial(full, TRAIN_STEPS,record_states=False)\n"
   ]
  }
 ]
}